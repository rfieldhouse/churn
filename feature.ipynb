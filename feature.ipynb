{
 "cells": [
  {
   "cell_type": "markdown",
   "metadata": {
    "collapsed": true
   },
   "source": [
    "# Features\n",
    "\n",
    "The purpose of this script is to merge together various pre-generated python objects (saved in pickle format) to create a feature matrix for subsequent modeling.\n",
    "\n",
    "Requirements:\n",
    "client_note.p (generated using client_note.py)\n",
    "times.p (generated using client_note_times.py)\n",
    "client_note_last.p (generated using client_note_times.ipynb)\n",
    "client_note_first.p (generated using client_note_times.ipynb)\n",
    "client_subscription.p (generated using client_subscription.py)\n",
    "last_touch.p (generated using last_touch.ipynb)\n",
    "\n",
    "Produces \n",
    "features.p\n"
   ]
  },
  {
   "cell_type": "code",
   "execution_count": null,
   "metadata": {
    "collapsed": false
   },
   "outputs": [],
   "source": [
    "#Import libraries\n",
    "%matplotlib inline\n",
    "import logging\n",
    "import collections\n",
    "import datetime as dt\n",
    "import os\n",
    "import sys\n",
    "import pickle\n",
    "\n",
    "import pandas as pd\n",
    "import numpy as np\n",
    "import matplotlib.pyplot as plt\n",
    "import seaborn as sns"
   ]
  },
  {
   "cell_type": "markdown",
   "metadata": {},
   "source": [
    "# Load Data"
   ]
  },
  {
   "cell_type": "code",
   "execution_count": null,
   "metadata": {
    "collapsed": false
   },
   "outputs": [],
   "source": [
    "dfClientNoteInteractionTypeCountEd = pickle.load(open( \"client_note.p\", \"rb\" ))\n",
    "dfClientNoteInteractionTypeCountEd['client_id'] = dfClientNoteInteractionTypeCountEd.client_id.astype(int)\n",
    "dfClientNoteInteractionTypeCountEd.head()"
   ]
  },
  {
   "cell_type": "code",
   "execution_count": null,
   "metadata": {
    "collapsed": false
   },
   "outputs": [],
   "source": [
    "#Number of rows with missing data\n",
    "dfClientNoteInteractionTypeCountEd.shape[0] - dfClientNoteInteractionTypeCountEd.dropna().shape[0]"
   ]
  },
  {
   "cell_type": "code",
   "execution_count": null,
   "metadata": {
    "collapsed": false
   },
   "outputs": [],
   "source": [
    "dfLast = pickle.load(open( \"client_note_last.p\", \"rb\" ))\n",
    "dfLast['client_id'] = dfLast.client_id.astype(int)\n",
    "dfLast.head()"
   ]
  },
  {
   "cell_type": "code",
   "execution_count": null,
   "metadata": {
    "collapsed": true
   },
   "outputs": [],
   "source": []
  },
  {
   "cell_type": "code",
   "execution_count": null,
   "metadata": {
    "collapsed": false
   },
   "outputs": [],
   "source": [
    "#Number of rows with missing data\n",
    "dfLast.shape[0] - dfLast.dropna().shape[0]"
   ]
  },
  {
   "cell_type": "code",
   "execution_count": null,
   "metadata": {
    "collapsed": false
   },
   "outputs": [],
   "source": [
    "dfFirst = pickle.load(open( \"client_note_first.p\", \"rb\" ))\n",
    "dfFirst['client_id'] = dfFirst.client_id.astype(int)\n",
    "#dfFirst = dfFirst['']\n",
    "dfFirst.head()"
   ]
  },
  {
   "cell_type": "code",
   "execution_count": null,
   "metadata": {
    "collapsed": true
   },
   "outputs": [],
   "source": []
  },
  {
   "cell_type": "code",
   "execution_count": null,
   "metadata": {
    "collapsed": true
   },
   "outputs": [],
   "source": []
  },
  {
   "cell_type": "code",
   "execution_count": null,
   "metadata": {
    "collapsed": false,
    "scrolled": true
   },
   "outputs": [],
   "source": [
    "dfTimes = pickle.load( open( \"times.p\", \"rb\" ) )\n",
    "#print dfTimes.head()\n",
    "dfTimes['client_id']=pd.DataFrame(dfTimes.client_id.astype(int))\n",
    "dfTimes.head()"
   ]
  },
  {
   "cell_type": "code",
   "execution_count": null,
   "metadata": {
    "collapsed": false
   },
   "outputs": [],
   "source": [
    "# Number of rows with missing data\n",
    "dfTimes.shape[0] - dfTimes.shape[0]"
   ]
  },
  {
   "cell_type": "code",
   "execution_count": null,
   "metadata": {
    "collapsed": false
   },
   "outputs": [],
   "source": [
    "dfSubscriptionCombined = pickle.load(open('client_subscription.p'))\n",
    "dfSubscriptionCombined['client_id'] = dfSubscriptionCombined.client_id.astype(int)\n",
    "dfSubscriptionCombined.head()"
   ]
  },
  {
   "cell_type": "code",
   "execution_count": null,
   "metadata": {
    "collapsed": false
   },
   "outputs": [],
   "source": [
    "#Number of rows with missing data\n",
    "dfSubscriptionCombined.shape[0] - dfSubscriptionCombined.dropna().shape[0]"
   ]
  },
  {
   "cell_type": "markdown",
   "metadata": {},
   "source": [
    "# Merge Data"
   ]
  },
  {
   "cell_type": "code",
   "execution_count": null,
   "metadata": {
    "collapsed": false
   },
   "outputs": [],
   "source": [
    "dfFeatures = pd.merge(dfClientNoteInteractionTypeCountEd,dfTimes,how='left')\n",
    "dfFeatures.head()"
   ]
  },
  {
   "cell_type": "code",
   "execution_count": null,
   "metadata": {
    "collapsed": false
   },
   "outputs": [],
   "source": [
    "#Number of rows with missing data\n",
    "dfFeatures.shape[0] - dfFeatures.dropna().shape[0]"
   ]
  },
  {
   "cell_type": "code",
   "execution_count": null,
   "metadata": {
    "collapsed": false
   },
   "outputs": [],
   "source": [
    "len(dfFeatures)"
   ]
  },
  {
   "cell_type": "code",
   "execution_count": null,
   "metadata": {
    "collapsed": false
   },
   "outputs": [],
   "source": [
    "print dfFeatures.info()\n",
    "print dfLast.info()\n",
    "print dfFirst.info()"
   ]
  },
  {
   "cell_type": "code",
   "execution_count": null,
   "metadata": {
    "collapsed": false
   },
   "outputs": [],
   "source": [
    "dfFeatures = pd.merge(dfFeatures,dfLast,left_on='client_id',right_on='client_id',how='left')\n",
    "dfFeatures.head()"
   ]
  },
  {
   "cell_type": "code",
   "execution_count": null,
   "metadata": {
    "collapsed": false
   },
   "outputs": [],
   "source": [
    "#Number of rows with missing data\n",
    "dfFeatures.shape[0] - dfFeatures.dropna().shape[0]"
   ]
  },
  {
   "cell_type": "code",
   "execution_count": null,
   "metadata": {
    "collapsed": false
   },
   "outputs": [],
   "source": [
    "print len(dfFeatures)"
   ]
  },
  {
   "cell_type": "code",
   "execution_count": null,
   "metadata": {
    "collapsed": false
   },
   "outputs": [],
   "source": [
    "dfFeatures = pd.merge(dfFeatures,dfFirst,left_on='client_id',right_on='client_id',how='left')\n",
    "dfFeatures.head()"
   ]
  },
  {
   "cell_type": "code",
   "execution_count": null,
   "metadata": {
    "collapsed": false
   },
   "outputs": [],
   "source": [
    "#Number of rows with missing data\n",
    "dfFeatures.shape[0] - dfFeatures.dropna().shape[0]"
   ]
  },
  {
   "cell_type": "code",
   "execution_count": null,
   "metadata": {
    "collapsed": false
   },
   "outputs": [],
   "source": [
    "print len(dfFeatures)"
   ]
  },
  {
   "cell_type": "code",
   "execution_count": null,
   "metadata": {
    "collapsed": false
   },
   "outputs": [],
   "source": [
    "dfFeatures = pd.merge(dfFeatures,dfSubscriptionCombined,left_on='client_id',right_on='client_id',how='left') #lose data here\n",
    "dfFeatures.head()"
   ]
  },
  {
   "cell_type": "code",
   "execution_count": null,
   "metadata": {
    "collapsed": false
   },
   "outputs": [],
   "source": [
    "#Number of rows with missing data\n",
    "dfFeatures.shape[0] - dfFeatures.dropna().shape[0]"
   ]
  },
  {
   "cell_type": "code",
   "execution_count": null,
   "metadata": {
    "collapsed": false
   },
   "outputs": [],
   "source": [
    "print len(dfFeatures)"
   ]
  },
  {
   "cell_type": "code",
   "execution_count": null,
   "metadata": {
    "collapsed": false
   },
   "outputs": [],
   "source": [
    "dfFeatures[dfFeatures['client_id']==94]"
   ]
  },
  {
   "cell_type": "code",
   "execution_count": null,
   "metadata": {
    "collapsed": false
   },
   "outputs": [],
   "source": [
    "dfLastTouch = pickle.load(open( \"last_touch.p\", \"rb\" ))\n",
    "dfFeatures = pd.merge(dfFeatures,dfLastTouch,left_on='client_id',right_on='client_id',how='left')\n",
    "dfFeatures.head()"
   ]
  },
  {
   "cell_type": "code",
   "execution_count": null,
   "metadata": {
    "collapsed": false
   },
   "outputs": [],
   "source": [
    "#Number of rows with missing data\n",
    "dfFeatures.shape[0] - dfFeatures.dropna().shape[0] #last touch "
   ]
  },
  {
   "cell_type": "code",
   "execution_count": null,
   "metadata": {
    "collapsed": false
   },
   "outputs": [],
   "source": [
    "print len(dfFeatures)\n"
   ]
  },
  {
   "cell_type": "code",
   "execution_count": null,
   "metadata": {
    "collapsed": false
   },
   "outputs": [],
   "source": [
    "dfFeatures = dfFeatures.dropna()\n",
    "print len(dfFeatures)"
   ]
  },
  {
   "cell_type": "code",
   "execution_count": null,
   "metadata": {
    "collapsed": false
   },
   "outputs": [],
   "source": [
    "#dfFeatures['tenant_id'] = dfFeatures.tenant_id.astype(int)\n",
    "dfFeatures['tenant_id'] = dfFeatures.tenant_id.astype(str)\n",
    "dfFeatures['client_id'] = dfFeatures.client_id.astype(str)\n",
    "dfFeatures['call'] = dfFeatures.call.astype(int)\n",
    "dfFeatures['email'] = dfFeatures.email.astype(int)\n",
    "dfFeatures['meeting'] = dfFeatures.meeting.astype(int)\n",
    "\n",
    "dfFeatures['avg_interval'] = dfFeatures.avg_interval.astype(float)\n",
    "dfFeatures['period_duration_sum'] = dfFeatures.period_duration_sum.astype(int)\n",
    "dfFeatures['period_duration_mean'] = dfFeatures.period_duration_mean.astype(int)\n",
    "dfFeatures['period_count'] = dfFeatures.period_count.astype(int)\n",
    "dfFeatures['active_count'] = dfFeatures.active_count.astype(int)\n",
    "dfFeatures['churned'] = dfFeatures.churned.astype(int)\n",
    "\n",
    "# dfFeatures['call_first'] = dfFeatures.call_first.astype(int)\n",
    "# dfFeatures['email_first'] = dfFeatures.email_first.astype(int)\n",
    "# dfFeatures['meeting_first'] = dfFeatures.meeting_first.astype(int)\n",
    "\n",
    "# dfFeatures['call_last'] = dfFeatures.call_last.astype(int)\n",
    "# dfFeatures['email_last'] = dfFeatures.email_last.astype(int)\n",
    "# dfFeatures['meeting_last'] = dfFeatures.meeting_last.astype(int)\n",
    "\n",
    "#dfFeatures['days_since_last_touch'] = dfFeatures.days_since_last_touch.astype(int)\n",
    "\n",
    "\n",
    "\n",
    "#Reorder columns\n",
    "dfFeatures = dfFeatures[['tenant_id','client_id','call','email','meeting','avg_interval',\\\n",
    "                         'period_duration_sum','period_duration_mean','period_count',\\\n",
    "                        'days_since_last_touch','active_count','churned']]\n",
    "\n",
    "# agg\n",
    "# dfFeatures = dfFeatures[['tenant_id','client_id','call','email','meeting','avg_interval',\\\n",
    "#                          'period_duration_sum','period_duration_mean','period_count',\\\n",
    "#                         'active_count','churned','days_since_last_touch']]\n",
    "\n",
    "# agg, first & last\n",
    "# dfFeatures = dfFeatures[['tenant_id','client_id','call','email','meeting','avg_interval',\\\n",
    "#                          'call_first','email_first','meeting_first',\\\n",
    "#                          'call_last','email_last','meeting_last',\\\n",
    "#                          'period_duration_sum','period_duration_mean','period_count',\\\n",
    "#                         'active_count','churned','days_since_last_touch']]\n",
    "\n",
    "dfFeatures.info()"
   ]
  },
  {
   "cell_type": "code",
   "execution_count": null,
   "metadata": {
    "collapsed": false
   },
   "outputs": [],
   "source": [
    "dfFeatures.head()"
   ]
  },
  {
   "cell_type": "code",
   "execution_count": null,
   "metadata": {
    "collapsed": false
   },
   "outputs": [],
   "source": [
    "dfFeatures.info()"
   ]
  },
  {
   "cell_type": "code",
   "execution_count": null,
   "metadata": {
    "collapsed": false
   },
   "outputs": [],
   "source": [
    "pickle.dump(dfFeatures, open( \"features.p\", \"wb\" ))"
   ]
  },
  {
   "cell_type": "code",
   "execution_count": null,
   "metadata": {
    "collapsed": false
   },
   "outputs": [],
   "source": [
    "#dfFeatures[dfFeatures['client_id']==151]"
   ]
  },
  {
   "cell_type": "code",
   "execution_count": null,
   "metadata": {
    "collapsed": false
   },
   "outputs": [],
   "source": [
    "# print len(dfClientNoteInteractionTypeCountEd)\n",
    "# print len(dfTimes)\n",
    "# print len(dfSubscriptionCombined)\n",
    "# print len(dfLast)\n",
    "# print len(dfFirst)\n",
    "# print len(dfLastTouch)\n",
    "\n",
    "print dfClientNoteInteractionTypeCountEd.info()\n",
    "print dfTimes.info()\n",
    "print dfSubscriptionCombined.info()\n",
    "print dfLast.info()\n",
    "print dfLastTouch.info()"
   ]
  },
  {
   "cell_type": "code",
   "execution_count": null,
   "metadata": {
    "collapsed": false
   },
   "outputs": [],
   "source": [
    "dfFeatures['email'] = dfFeatures.email/dfFeatures.period_duration_sum\n",
    "dfFeatures['call'] = dfFeatures.call/dfFeatures.period_duration_sum\n",
    "dfFeatures['meeting'] = dfFeatures.meeting/dfFeatures.period_duration_sum\n",
    "\n",
    "dfFeatures['email_first'] = dfFeatures.email/dfFeatures.period_duration_mean\n",
    "dfFeatures['call_first'] = dfFeatures.call/dfFeatures.period_duration_mean\n",
    "dfFeatures['meeting_first'] = dfFeatures.meeting/dfFeatures.period_duration_mean\n",
    "\n",
    "dfFeatures['email_last'] = dfFeatures.email/dfFeatures.period_duration_mean\n",
    "dfFeatures['call_last'] = dfFeatures.call/dfFeatures.period_duration_mean\n",
    "dfFeatures['meeting_last'] = dfFeatures.meeting/dfFeatures.period_duration_mean\n",
    "\n"
   ]
  },
  {
   "cell_type": "code",
   "execution_count": null,
   "metadata": {
    "collapsed": false
   },
   "outputs": [],
   "source": [
    "dfFeatures.head()"
   ]
  },
  {
   "cell_type": "code",
   "execution_count": null,
   "metadata": {
    "collapsed": true
   },
   "outputs": [],
   "source": [
    "pickle.dump(dfFeatures, open( \"features_all.p\", \"wb\" ))"
   ]
  },
  {
   "cell_type": "code",
   "execution_count": null,
   "metadata": {
    "collapsed": true
   },
   "outputs": [],
   "source": []
  }
 ],
 "metadata": {
  "anaconda-cloud": {},
  "kernelspec": {
   "display_name": "Python [default]",
   "language": "python",
   "name": "python2"
  },
  "language_info": {
   "codemirror_mode": {
    "name": "ipython",
    "version": 2
   },
   "file_extension": ".py",
   "mimetype": "text/x-python",
   "name": "python",
   "nbconvert_exporter": "python",
   "pygments_lexer": "ipython2",
   "version": "2.7.12"
  }
 },
 "nbformat": 4,
 "nbformat_minor": 1
}
